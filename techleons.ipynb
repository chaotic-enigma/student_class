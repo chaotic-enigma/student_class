{
 "cells": [
  {
   "cell_type": "code",
   "execution_count": 12,
   "metadata": {
    "collapsed": true
   },
   "outputs": [],
   "source": [
    "class techleons_participation(object):\n",
    "    def __init__(self):\n",
    "        self.technical_events = {1 : 'Gaming',\n",
    "                                 2 : 'Coding and Debugging',\n",
    "                                 3 : 'Hackathon',\n",
    "                                 4 : 'Web-Designing',\n",
    "                                 5 : 'Treasure Hunt',\n",
    "                                 6 : 'Dumcharades'}\n",
    "    \n",
    "    def event_resgisteration(self):\n",
    "        try:\n",
    "            self.rsvp = 0\n",
    "            self.events = []        \n",
    "\n",
    "            print('\\nBelow are the details for registration in techleons\\n')        \n",
    "            for keys,values in self.technical_events.items():\n",
    "                print('\\t' + str(keys) + ' --> ' + str(values))\n",
    "\n",
    "            while self.rsvp < len(self.technical_events)/2:\n",
    "                self.raw = input('\\nEnter your choice: ')\n",
    "\n",
    "                for i,k in self.technical_events.items():\n",
    "                    if self.raw in list(self.technical_events.keys()):\n",
    "                        self.events.append(self.technical_events[self.raw])\n",
    "                        break\n",
    "                    elif self.raw < 1 or self.raw > len(self.technical_events):\n",
    "                        print('\\nThe option which you have chosen is unobservant. \\nPlease select the valid option.')\n",
    "                        break\n",
    "                    else:\n",
    "                        print('\\nInput not understood')\n",
    "                        break\n",
    "\n",
    "                self.response = input('\\nInterested in another event? (y/n)')            \n",
    "                if self.response == 'y':\n",
    "                    self.rsvp += 1\n",
    "                elif self.response == 'n':\n",
    "                    print('\\nHope you are happy with what you have selected.\\n')\n",
    "                    return list(set(self.events))\n",
    "                    break\n",
    "                else:\n",
    "                    print('\\nInput not understood.\\n')\n",
    "                    return list(set(self.events))\n",
    "                    break\n",
    "                if self.rsvp >= 3:\n",
    "                    print('\\nYou can only choose atmost 3 events.\\n')\n",
    "                    return list(set(self.events))\n",
    "                    break                \n",
    "        except (NameError, SyntaxError):\n",
    "            print('\\nPlease check your input.\\n')\n",
    "            return list(set(self.events))\n",
    "\n",
    "class registeration_confirmed(techleons_participation):\n",
    "    def confirmation(self):\n",
    "        return techleons_participation.event_resgisteration(self)"
   ]
  },
  {
   "cell_type": "code",
   "execution_count": 13,
   "metadata": {},
   "outputs": [
    {
     "name": "stdout",
     "output_type": "stream",
     "text": [
      "\n",
      "Below are the details for registration in techleons\n",
      "\n",
      "\t1 --> Gaming\n",
      "\t2 --> Coding and Debugging\n",
      "\t3 --> Hackathon\n",
      "\t4 --> Web-Designing\n",
      "\t5 --> Treasure Hunt\n",
      "\t6 --> Dumcharades\n",
      "\n",
      "Enter your choice: 1\n",
      "\n",
      "Interested in another event? (y/n)'y'\n",
      "\n",
      "Enter your choice: 2\n",
      "\n",
      "Interested in another event? (y/n)'y'\n",
      "\n",
      "Enter your choice: 3\n",
      "\n",
      "Interested in another event? (y/n)'y'\n",
      "\n",
      "You can only choose atmost 3 events.\n",
      "\n",
      "['Gaming', 'Hackathon', 'Coding and Debugging']\n"
     ]
    }
   ],
   "source": [
    "event = registeration_confirmed()\n",
    "print(event.confirmation())"
   ]
  },
  {
   "cell_type": "code",
   "execution_count": null,
   "metadata": {
    "collapsed": true
   },
   "outputs": [],
   "source": []
  }
 ],
 "metadata": {
  "kernelspec": {
   "display_name": "Python 2",
   "language": "python",
   "name": "python2"
  },
  "language_info": {
   "codemirror_mode": {
    "name": "ipython",
    "version": 2
   },
   "file_extension": ".py",
   "mimetype": "text/x-python",
   "name": "python",
   "nbconvert_exporter": "python",
   "pygments_lexer": "ipython2",
   "version": "2.7.14"
  }
 },
 "nbformat": 4,
 "nbformat_minor": 2
}
